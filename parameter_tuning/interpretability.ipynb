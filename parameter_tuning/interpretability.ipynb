{
 "cells": [
  {
   "cell_type": "markdown",
   "id": "c83fee0e",
   "metadata": {},
   "source": [
    "Imports"
   ]
  },
  {
   "cell_type": "code",
   "execution_count": null,
   "id": "cfb282ff",
   "metadata": {},
   "outputs": [],
   "source": [
    "import torch\n",
    "import matplotlib.pyplot as plt\n",
    "import numpy as np\n",
    "import time, os\n",
    "import pandas as pd\n",
    "\n",
    "\n",
    "import init\n",
    "import loader\n",
    "import visualisation\n",
    "import parameters\n",
    "import sys\n",
    "from serial import RNN\n",
    "from b_vae import B_VAE\n",
    "from autoencoders import vae\n",
    "sys.path.append('../../libs/')\n",
    "import shjnn"
   ]
  },
  {
   "cell_type": "markdown",
   "id": "645532e8",
   "metadata": {},
   "source": [
    "Initialise selected"
   ]
  }
 ],
 "metadata": {
  "language_info": {
   "name": "python"
  }
 },
 "nbformat": 4,
 "nbformat_minor": 5
}
