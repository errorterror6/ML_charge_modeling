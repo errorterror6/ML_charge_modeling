{
 "cells": [
  {
   "cell_type": "markdown",
   "id": "c83fee0e",
   "metadata": {},
   "source": [
    "Imports"
   ]
  },
  {
   "cell_type": "code",
   "execution_count": 1,
   "id": "cfb282ff",
   "metadata": {},
   "outputs": [],
   "source": [
    "import torch\n",
    "import matplotlib.pyplot as plt\n",
    "import numpy as np\n",
    "import time, os\n",
    "import pandas as pd\n",
    "\n",
    "\n",
    "import init\n",
    "import loader\n",
    "import visualisation\n",
    "import parameters\n",
    "import sys\n",
    "from serial import RNN\n",
    "from b_vae import B_VAE\n",
    "from autoencoders import vae\n",
    "sys.path.append('../../libs/')\n",
    "import shjnn"
   ]
  },
  {
   "cell_type": "markdown",
   "id": "6ca65e20",
   "metadata": {},
   "source": [
    "Configure key details and init model"
   ]
  },
  {
   "cell_type": "code",
   "execution_count": null,
   "id": "a93c0690",
   "metadata": {},
   "outputs": [
    {
     "name": "stdout",
     "output_type": "stream",
     "text": [
      "Found Config file: saves\\20250422-133810_LSTM-20DROPS-1_\\model\\model_params_epoch_500.json\n",
      "Found Model Save: saves\\20250422-133810_LSTM-20DROPS-1_\\model\\save_model_ckpt_500.pth\n"
     ]
    }
   ],
   "source": [
    "#must be unique.\n",
    "model_name = 'LSTM-20DROPS'\n",
    "\n",
    "\n",
    "# Load the model\n",
    "saves_folder = \"saves\"\n",
    "model_subfolder = None\n",
    "\n",
    "if os.path.exists(saves_folder):\n",
    "    for subfolder in os.listdir(saves_folder):\n",
    "        subfolder_path = os.path.join(saves_folder, subfolder)\n",
    "        if os.path.isdir(subfolder_path) and model_name in subfolder:\n",
    "            model_subfolder = os.path.join(subfolder_path, \"model\")\n",
    "            break\n",
    "\n",
    "# Check for Pickle and PTH files\n",
    "pickle_file = None\n",
    "pth_files = []\n",
    "for file in os.listdir(model_subfolder):\n",
    "    if file.endswith(\".pkl\"):\n",
    "        pickle_file = os.path.join(model_subfolder, file)\n",
    "        print(f\"Success (1/4) Found Config file: {pickle_file}\")\n",
    "        \n",
    "    elif file.endswith(\".pth\"):\n",
    "        pth_file = os.path.join(model_subfolder, file)\n",
    "        print(f\"Success (2/4) Found Model Save: {pth_file}\")\n",
    "        pth_files.append(pth_file)\n",
    "if not pickle_file or not pth_files:\n",
    "    print(f\"Pickle file or PTH file not found in '{model_subfolder}'.\")\n",
    "    raise FileNotFoundError(f\"Pickle file or PTH file not found in '{model_subfolder}'.\")\n",
    "\n",
    "\n",
    "# Load the model configuration"
   ]
  },
  {
   "cell_type": "code",
   "execution_count": null,
   "id": "b7c166d2",
   "metadata": {},
   "outputs": [],
   "source": []
  }
 ],
 "metadata": {
  "kernelspec": {
   "display_name": ".venv",
   "language": "python",
   "name": "python3"
  },
  "language_info": {
   "codemirror_mode": {
    "name": "ipython",
    "version": 3
   },
   "file_extension": ".py",
   "mimetype": "text/x-python",
   "name": "python",
   "nbconvert_exporter": "python",
   "pygments_lexer": "ipython3",
   "version": "3.12.2"
  }
 },
 "nbformat": 4,
 "nbformat_minor": 5
}
